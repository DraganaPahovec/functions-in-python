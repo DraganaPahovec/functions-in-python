{
 "cells": [
  {
   "cell_type": "markdown",
   "id": "3b484449",
   "metadata": {},
   "source": [
    "## Exercise 1:\n",
    "\n",
    "Define a list using a comprehension that has 20 elements that are random integers between 0 and 20 to the power of 2. Then:\n",
    "\n",
    "- Remove all duplicates of the list.\n",
    "\n",
    "\n",
    "- Create a dictionary using a comprehension that has keys as the sqrt(int ** 2) and the values as the int ** 2 from the cleared list.\n",
    "\n",
    "#### Example Input:\n",
    "    example_list = [25, 81, 4, 16, 289, 196, 169, 361, 0, 16, 121, 324, 100, 324, 289, 4, 196, 9, 64, 1]\n",
    "\n",
    "#### Output:\n",
    "    [0, 289, 121, 64, 4, 196, 324, 100, 1, 169, 361, 9, 16, 81, 25]\n",
    "    \n",
    "    {0.0: 0, 17.0: 289, 11.0: 121, 8.0: 64, 2.0: 4, 14.0: 196, 18.0: 324, 10.0: 100, 1.0: 1, 13.0: 169, 19.0: 361, 3.0: 9, 4.0: 16, 9.0: 81, 5.0: 25}"
   ]
  },
  {
   "cell_type": "markdown",
   "id": "8af1aa36",
   "metadata": {},
   "source": [
    "# =================================================="
   ]
  },
  {
   "cell_type": "code",
   "execution_count": 7,
   "id": "e78d7845",
   "metadata": {},
   "outputs": [
    {
     "name": "stdout",
     "output_type": "stream",
     "text": [
      "[2, 9, 13, 11, 16, 4, 18, 2, 11, 12, 12, 9, 14, 17, 0, 17, 9, 1, 4, 16]\n",
      "[4, 81, 169, 121, 256, 16, 324, 4, 121, 144, 144, 81, 196, 289, 0, 289, 81, 1, 16, 256]\n",
      "-----\n",
      "[256, 289, 0, 1, 4, 324, 196, 169, 16, 81, 144, 121]\n",
      "-----\n",
      "{16.0: 256, 17.0: 289, 0.0: 0, 1.0: 1, 2.0: 4, 18.0: 324, 14.0: 196, 13.0: 169, 4.0: 16, 9.0: 81, 12.0: 144, 11.0: 121}\n"
     ]
    }
   ],
   "source": [
    "import random\n",
    "\n",
    "#finding random integers between 0-20 with comprehension\n",
    "list_1 = [random.randint (0, 20) for _ in range (20)]\n",
    "print (list_1)\n",
    "\n",
    "y = [list_1[i] ** 2 for i in range(0, len(list_1))]\n",
    "print (y)\n",
    "\n",
    "print(\"-----\")\n",
    "#remove all duplicates of the list\n",
    "y = set (y)\n",
    "y = list (y)\n",
    "print (y)\n",
    "print(\"-----\")\n",
    "\n",
    "#Create a dict using comprehension:\n",
    "dict_1 = {element**0.5 : element for element in y}\n",
    "\n",
    "print(dict_1)\n"
   ]
  },
  {
   "cell_type": "markdown",
   "id": "5927e456",
   "metadata": {},
   "source": [
    "## Exercise 2:\n",
    "\n",
    "Write a function to find the factorial of a number.\n",
    "\n",
    "#### Examples:\n",
    "    1! = 1\n",
    "    2! = 2\n",
    "    3! = 6\n",
    "    4! = 24\n",
    "    5! = 120\n",
    "    6! = 720"
   ]
  },
  {
   "cell_type": "code",
   "execution_count": 5,
   "id": "8de740ef",
   "metadata": {},
   "outputs": [
    {
     "name": "stdin",
     "output_type": "stream",
     "text": [
      "Input number: 10\n"
     ]
    },
    {
     "name": "stdout",
     "output_type": "stream",
     "text": [
      "The factorial of 10 is 3628800\n"
     ]
    }
   ],
   "source": [
    "def factorial (number):\n",
    "    if number == 1:\n",
    "        return 1\n",
    "    else:\n",
    "        return (number * factorial (number - 1))\n",
    "\n",
    "number = int(input(\"Input number:\"))\n",
    "f = factorial(number)\n",
    "print(f\"The factorial of {number} is {f}\")"
   ]
  },
  {
   "cell_type": "markdown",
   "id": "7f871a7e",
   "metadata": {},
   "source": [
    "# =================================================="
   ]
  },
  {
   "cell_type": "markdown",
   "id": "c9138353",
   "metadata": {},
   "source": [
    "## Exercise 3:\n",
    "\n",
    "Write a Python function to remove and print every third number from a list of numbers until the list becomes empty.\n",
    "\n",
    "#### Example Input:\n",
    "    [10,20,30,40,50,60,70,80,90]\n",
    "\n",
    "#### Output:\n",
    "    30\n",
    "    60\n",
    "    90\n",
    "    40\n",
    "    80\n",
    "    50\n",
    "    20\n",
    "    70\n",
    "    10"
   ]
  },
  {
   "cell_type": "code",
   "execution_count": 18,
   "id": "c07d8f43",
   "metadata": {},
   "outputs": [
    {
     "name": "stdout",
     "output_type": "stream",
     "text": [
      "30\n",
      "60\n",
      "90\n",
      "40\n",
      "80\n",
      "50\n",
      "20\n",
      "70\n",
      "10\n",
      "[]\n"
     ]
    }
   ],
   "source": [
    "def function_print_third_element(example_list):\n",
    "    position = 3 - 1\n",
    "    index = 0\n",
    "    len_list = (len (example_list))\n",
    "    while len_list > 0:\n",
    "        index = (position + index) % len_list\n",
    "        print (example_list.pop (index))\n",
    "        len_list -= 1\n",
    "example_list = [10,20,30,40,50,60,70,80,90]\n",
    "function_print_third_element (example_list)\n",
    "\n",
    "print (example_list)\n"
   ]
  },
  {
   "cell_type": "markdown",
   "id": "f4235ceb",
   "metadata": {},
   "source": [
    "# =================================================="
   ]
  },
  {
   "cell_type": "markdown",
   "id": "56893d37",
   "metadata": {},
   "source": [
    "## Exercise 4:\n",
    "\n",
    "Create a calculator in Python. The calculator should be able to:\n",
    "\n",
    "- Sum two numbers,\n",
    "- Subtract two numbers,\n",
    "- Multiple two numbers,\n",
    "- Divide two numbers,\n",
    "- Put a number to the power of another number,\n",
    "- Find the square root of a number,\n",
    "- Find the inverse of a number.  --> reciprocna vrednost 1/x\n",
    "\n",
    "Note: round every result to the 5th decimal.\n",
    "\n",
    "Hint: Use OOP.\n",
    "\n",
    "#### Example Input:\n",
    "    [1, 1], +\n",
    "    [3, 7], *\n",
    "    [23.0, 77], /\n",
    "    [12], sqrt\n",
    "    \n",
    "\n",
    "#### Example Outputs:\n",
    "    \"{number_1} + {number_2} = {result}\"\n",
    "    \"{number_1} * {number_2} = {result}\"\n",
    "    \"{number_1} / {number_2} = {result}\"\n",
    "    \"sqrt({number}) = {result}\""
   ]
  },
  {
   "cell_type": "code",
   "execution_count": 12,
   "id": "1cc9eccc",
   "metadata": {},
   "outputs": [
    {
     "name": "stdout",
     "output_type": "stream",
     "text": [
      "1: Add\n",
      "2: Subtract\n",
      "3: Multiply\n",
      "4: Divide\n",
      "5: PowerOf\n",
      "6: SquareRoot\n",
      "7: Inverse\n",
      "8: Exit\n"
     ]
    },
    {
     "name": "stdin",
     "output_type": "stream",
     "text": [
      "Select operation:  1\n",
      "Enter first number:  1.55\n",
      "Enter second number:  5.8888888\n"
     ]
    },
    {
     "name": "stdout",
     "output_type": "stream",
     "text": [
      "1.55 + 5.8888888 = 7.43889\n",
      "1: Add\n",
      "2: Subtract\n",
      "3: Multiply\n",
      "4: Divide\n",
      "5: PowerOf\n",
      "6: SquareRoot\n",
      "7: Inverse\n",
      "8: Exit\n"
     ]
    },
    {
     "name": "stdin",
     "output_type": "stream",
     "text": [
      "Select operation:  2\n",
      "Enter first number:  6\n",
      "Enter second number:  4\n"
     ]
    },
    {
     "name": "stdout",
     "output_type": "stream",
     "text": [
      "6.0 - 4.0 = 2.0\n",
      "1: Add\n",
      "2: Subtract\n",
      "3: Multiply\n",
      "4: Divide\n",
      "5: PowerOf\n",
      "6: SquareRoot\n",
      "7: Inverse\n",
      "8: Exit\n"
     ]
    },
    {
     "name": "stdin",
     "output_type": "stream",
     "text": [
      "Select operation:  3\n",
      "Enter first number:  5.555555\n",
      "Enter second number:  6.4444444\n"
     ]
    },
    {
     "name": "stdout",
     "output_type": "stream",
     "text": [
      "5.555555 * 6.4444444 = 35.80247\n",
      "1: Add\n",
      "2: Subtract\n",
      "3: Multiply\n",
      "4: Divide\n",
      "5: PowerOf\n",
      "6: SquareRoot\n",
      "7: Inverse\n",
      "8: Exit\n"
     ]
    },
    {
     "name": "stdin",
     "output_type": "stream",
     "text": [
      "Select operation:  4\n",
      "Enter first number:  5\n",
      "Enter second number:  3\n"
     ]
    },
    {
     "name": "stdout",
     "output_type": "stream",
     "text": [
      "5.0 / 3.0 = 1.66667\n",
      "1: Add\n",
      "2: Subtract\n",
      "3: Multiply\n",
      "4: Divide\n",
      "5: PowerOf\n",
      "6: SquareRoot\n",
      "7: Inverse\n",
      "8: Exit\n"
     ]
    },
    {
     "name": "stdin",
     "output_type": "stream",
     "text": [
      "Select operation:  5\n",
      "Enter first number:  3\n",
      "Enter second number:  6\n"
     ]
    },
    {
     "name": "stdout",
     "output_type": "stream",
     "text": [
      "3.0 ** 6.0 = 729.0\n",
      "1: Add\n",
      "2: Subtract\n",
      "3: Multiply\n",
      "4: Divide\n",
      "5: PowerOf\n",
      "6: SquareRoot\n",
      "7: Inverse\n",
      "8: Exit\n"
     ]
    },
    {
     "name": "stdin",
     "output_type": "stream",
     "text": [
      "Select operation:  6\n",
      "Enter the number:  9\n"
     ]
    },
    {
     "name": "stdout",
     "output_type": "stream",
     "text": [
      "The sqare root of num =  3.0\n",
      "1: Add\n",
      "2: Subtract\n",
      "3: Multiply\n",
      "4: Divide\n",
      "5: PowerOf\n",
      "6: SquareRoot\n",
      "7: Inverse\n",
      "8: Exit\n"
     ]
    },
    {
     "name": "stdin",
     "output_type": "stream",
     "text": [
      "Select operation:  7\n",
      "Enter the number:  6\n"
     ]
    },
    {
     "name": "stdout",
     "output_type": "stream",
     "text": [
      "The inverse of number =  0.16667\n",
      "1: Add\n",
      "2: Subtract\n",
      "3: Multiply\n",
      "4: Divide\n",
      "5: PowerOf\n",
      "6: SquareRoot\n",
      "7: Inverse\n",
      "8: Exit\n"
     ]
    },
    {
     "name": "stdin",
     "output_type": "stream",
     "text": [
      "Select operation:  8\n"
     ]
    }
   ],
   "source": [
    "class Calculator:\n",
    "    def add(self, a, b):\n",
    "        return a+b\n",
    "    \n",
    "    def subtract(self, a, b):\n",
    "        return a-b\n",
    "        \n",
    "    def multiply(self, a, b):\n",
    "        return a*b\n",
    "\n",
    "    def divide(self, a, b):\n",
    "        return a/b\n",
    "    \n",
    "    def pow(self, a, b):\n",
    "        return a**b\n",
    "    \n",
    "    def sqrt(self, a, b):\n",
    "        return a**0.5\n",
    "\n",
    "my_calculator = Calculator()\n",
    "\n",
    "while True:\n",
    "\n",
    "    print(\"1: Add\")\n",
    "    print(\"2: Subtract\")\n",
    "    print(\"3: Multiply\")\n",
    "    print(\"4: Divide\")\n",
    "    print(\"5: PowerOf\")\n",
    "    print(\"6: SquareRoot\")\n",
    "    print(\"7: Inverse\")\n",
    "    print(\"8: Exit\")\n",
    "    \n",
    "    ch = int(input(\"Select operation: \"))\n",
    "    \n",
    "    if ch in (1, 2, 3, 4, 5, 8):\n",
    "        \n",
    "        if(ch == 8):\n",
    "            break\n",
    "      \n",
    "        a = float(input(\"Enter first number: \"))\n",
    "        b = float(input(\"Enter second number: \"))\n",
    "         \n",
    "        if(ch == 1):\n",
    "            print(a, \"+\", b, \"=\", round(my_calculator.add(a, b),5))\n",
    "        elif(ch == 2):\n",
    "            print(a, \"-\", b, \"=\", round(my_calculator.subtract(a, b),5))\n",
    "        elif(ch == 3):\n",
    "            print(a, \"*\", b, \"=\", round(my_calculator.multiply(a, b),5))\n",
    "        elif(ch == 4):\n",
    "            print(a, \"/\", b, \"=\", round(my_calculator.divide(a, b),5))\n",
    "        elif(ch == 5):\n",
    "            print(a, \"**\", b, \"=\", round(my_calculator.pow(a, b),5))\n",
    "    elif ch in (6, 7):\n",
    "        a = float(input(\"Enter the number: \"))\n",
    "        if(ch == 6):\n",
    "            num_sqrt = a ** 0.5\n",
    "            print (\"The sqare root of num = \", round(num_sqrt,5))\n",
    "        elif(ch == 7):\n",
    "            num_inverse = 1 / a\n",
    "            print(\"The inverse of number = \", round(num_inverse,5))         \n",
    "    else:              \n",
    "        print(\"Invalid Input\")"
   ]
  },
  {
   "cell_type": "markdown",
   "id": "a77401f4",
   "metadata": {
    "tags": []
   },
   "source": [
    "# =================================================="
   ]
  },
  {
   "cell_type": "markdown",
   "id": "276e02d5",
   "metadata": {},
   "source": [
    "## Exercise 5:\n",
    "\n",
    "Write a function named binary(number:int) that has one argument a number an transforms a number from base 10 to base 2.\n",
    "\n",
    "#### Examples:\n",
    "    5 -> 101\n",
    "    22 -> 10110\n",
    "    7 -> 111"
   ]
  },
  {
   "cell_type": "code",
   "execution_count": 2,
   "id": "95e59584-a25e-4cfd-a335-4a88dbc93e00",
   "metadata": {},
   "outputs": [
    {
     "name": "stdin",
     "output_type": "stream",
     "text": [
      "Enter a decimal number \n",
      " 22\n"
     ]
    },
    {
     "name": "stdout",
     "output_type": "stream",
     "text": [
      "Binary of 22 is: 10110\n"
     ]
    }
   ],
   "source": [
    "#get input and initialize variables\n",
    "decimal = int(input(\"Enter a decimal number \\n\"))\n",
    "binary = 0\n",
    "ctr = 0\n",
    "temp = decimal  #copy input decimal\n",
    "\n",
    "#find binary value using while loop\n",
    "while(temp > 0):\n",
    "    binary = ((temp%2)*(10**ctr)) + binary\n",
    "    temp = int(temp/2)\n",
    "    ctr += 1\n",
    "\n",
    "#output the result       \n",
    "print(\"Binary of {x} is: {y}\".format(x=decimal,y=binary))"
   ]
  },
  {
   "cell_type": "markdown",
   "id": "2c72623e",
   "metadata": {},
   "source": [
    "# =================================================="
   ]
  },
  {
   "cell_type": "markdown",
   "id": "ab12ad20",
   "metadata": {},
   "source": [
    "## Exercise 6:\n",
    "\n",
    "Make a very simple version of a chess game. The game should be able to be played between two people. Do it as follows:\n",
    "\n",
    "- Construct a function named set_board(), that sets an 8x8 board and sets the pieces at their initial positions.\n",
    "\n",
    "- Make a function named update_board(board:matrix, piece_name:String, old_position:list, new_position:list) so that after someone played a move the board is updated. \n",
    "\n",
    "- Make a function named move_piece(piece_name:String, old_position:list, new_position:list). There are 3 points that need to be coded. You can see them in comments in the template code below.\n",
    "\n",
    "The template of the code is down below.\n",
    "\n",
    "Note: you will need to remember whose turn it is. Use boolean variables for this.\n",
    "\n",
    "Hint: use dictionary/ies to assign to each piece names and positions.\n",
    "\n",
    "I will write the main function so that at the end of the homework we can play."
   ]
  },
  {
   "cell_type": "code",
   "execution_count": 49,
   "id": "4fc6cd3d",
   "metadata": {},
   "outputs": [],
   "source": [
    "Blank = \" \"\n",
    "\n",
    "def set_board():\n",
    "    [[1] * 8 for i in range (8)]\n",
    "    \n",
    "def update(board, piece_name, old_position, new_position):\n",
    "    board = []\n",
    "\n",
    "    board.append([\"WR\",\"WN\",\"WB\",\"WQ\",\"WK\",\"WB\",\"WN\",\"WR\"])\n",
    "    board.append([\"WP\",\"WP\",\"WP\",\"WP\",\"WP\",\"WP\",\"WP\",\"WP\"])\n",
    "    for i in range(2, 6):\n",
    "        board.append([Blank]*8)\n",
    "    board.append([\"BP\",\"BP\",\"BP\",\"BP\",\"BP\",\"BP\",\"BP\",\"BP\"])\n",
    "    board.append([\"BR\",\"BN\",\"BB\",\"BQ\",\"BK\",\"BB\",\"BN\",\"BR\"])\n",
    "\n",
    "    return board\n",
    "def find_valid_move(board, piece, target_rank, target_file): \n",
    "  # out of bounds\n",
    "    if  target_rank < 0 or target_rank > 7:\n",
    "        return -1, -1\n",
    "    if  target_file < 0 or target_file > 7:\n",
    "        return -1, -1\n",
    "    if board[target_rank][target_file][0] == piece[0]:\n",
    "        return -1, -1\n",
    "\n",
    "def move_piece(piece_name, old_position, new_position):\n",
    "    old_position, new_position = find_valid_move(board, piece_name, old_position, new_position)\n",
    "    if (old_position, new_position) != (-1, -1):\n",
    "        board[old_position][new_position] = piece_name\n",
    "        board[old_position][new_position] = Blank\n",
    "        return True\n",
    "    return False\n",
    "    # Check which piece to move:\n",
    "    \n",
    "    # Check if I can move the piece from the old_position to the new_position:\n",
    "    \n",
    "    # Update the board and the old_position to the new_position for the corresponding piece:\n",
    "    "
   ]
  },
  {
   "cell_type": "markdown",
   "id": "8b528b6d",
   "metadata": {
    "tags": []
   },
   "source": [
    "# =================================================="
   ]
  }
 ],
 "metadata": {
  "kernelspec": {
   "display_name": "Python 3 (ipykernel)",
   "language": "python",
   "name": "python3"
  },
  "language_info": {
   "codemirror_mode": {
    "name": "ipython",
    "version": 3
   },
   "file_extension": ".py",
   "mimetype": "text/x-python",
   "name": "python",
   "nbconvert_exporter": "python",
   "pygments_lexer": "ipython3",
   "version": "3.11.2"
  }
 },
 "nbformat": 4,
 "nbformat_minor": 5
}
